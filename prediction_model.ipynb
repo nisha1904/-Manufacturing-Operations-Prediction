{
  "cells": [
    {
      "cell_type": "code",
      "execution_count": null,
      "metadata": {
        "id": "S8d2vF3kI0Gv"
      },
      "outputs": [],
      "source": [
        "import numpy as np\n",
        "import pandas as pd\n",
        "import random\n",
        "import json\n",
        "import joblib\n",
        "from sklearn.model_selection import train_test_split\n",
        "from sklearn.metrics import accuracy_score\n",
        "\n",
        "# Load the dataset\n",
        "df = pd.read_csv(\"ai4i2020.csv\")\n",
        "\n",
        "# Select features and target\n",
        "features = df[[\"Air temperature [K]\", \"Process temperature [K]\", \"Rotational speed [rpm]\", \"Torque [Nm]\", \"Tool wear [min]\"]]\n",
        "targets = df[\"Machine failure\"]\n",
        "\n",
        "# Split data into training and testing datasets\n",
        "X_train, X_test, y_train, y_test = train_test_split(features, targets, test_size=0.2, random_state=42)\n",
        "\n",
        "# Initialize and train Random Forest Classifier model\n",
        "from sklearn.ensemble import RandomForestClassifier\n",
        "model = RandomForestClassifier(n_estimators=100, random_state=42)\n",
        "model.fit(X_train, y_train)\n",
        "\n",
        "# Predictions\n",
        "y_pred = model.predict(X_test)\n",
        "\n",
        "# Calculate accuracy\n",
        "accuracy = accuracy_score(y_test, y_pred)\n",
        "print(f\"Random Forest Accuracy: {accuracy}\")\n",
        "\n",
        "# Save the model\n",
        "joblib.dump(model, 'prediction_model.pkl')\n",
        "print(\"Model saved!\")\n"
      ]
    }
  ],
  "metadata": {
    "colab": {
      "provenance": []
    },
    "kernelspec": {
      "display_name": "Python 3",
      "name": "python3"
    },
    "language_info": {
      "name": "python"
    }
  },
  "nbformat": 4,
  "nbformat_minor": 0
}